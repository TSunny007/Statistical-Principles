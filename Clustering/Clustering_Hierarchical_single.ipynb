{
  "cells": [
    {
      "metadata": {
        "_uuid": "366aa044dc9503b1570b18836e1c0b010ae7afd2"
      },
      "cell_type": "markdown",
      "source": "# TARUN SUNKARANENI'S Hierarchical and Point-Clustering Notebook"
    },
    {
      "metadata": {
        "_cell_guid": "b1076dfc-b9ad-4769-8c92-a6c4dae69d19",
        "_uuid": "8f2839f25d086af736a60e9eeb907d3b93b6e0e5",
        "trusted": true
      },
      "cell_type": "code",
      "source": "\n# This Python 3 environment comes with many helpful analytics libraries installed\n# It is defined by the kaggle/python docker image: https://github.com/kaggle/docker-python\n# For example, here's several helpful packages to load in \n\nimport numpy as np # linear algebra\nimport pandas as pd # data processing, CSV file I/O (e.g. pd.read_csv)\nfrom scipy.cluster.hierarchy import dendrogram, linkage\nfrom scipy.spatial.distance import cdist\nfrom matplotlib import pyplot as plt\nfrom scipy.spatial import distance\nimport math\n%matplotlib inline\nnp.set_printoptions(precision=5, suppress=True)  # suppress scientific float notation\n# Input data files are available in the \"../input/\" directory.\n# For example, running this (by clicking run or pressing Shift+Enter) will list the files in the input directory\n\nimport os\nprint(os.listdir(\"../input\"))\n\n# Any results you write to the current directory are saved as output.",
      "execution_count": 51,
      "outputs": [
        {
          "name": "stdout",
          "output_type": "stream",
          "text": "['C1.csv', 'C2.csv', 'C3.csv']\n"
        }
      ]
    },
    {
      "metadata": {
        "_cell_guid": "79c7e3d0-c299-4dcb-8224-4455121ee9b0",
        "_uuid": "d629ff2d2480ee46fbb7e2d37f6b5fab8052498a",
        "collapsed": true,
        "trusted": true
      },
      "cell_type": "code",
      "source": "c1 = pd.read_csv(\"../input/C1.csv\", names=['x0', 'x1'])",
      "execution_count": 52,
      "outputs": []
    },
    {
      "metadata": {
        "_cell_guid": "351e3587-c6f7-4828-9633-49b1ae351e21",
        "_uuid": "7986cbee0e499844dd23711172eb956bd8a140a8"
      },
      "cell_type": "markdown",
      "source": "# Hierarchical"
    },
    {
      "metadata": {
        "_cell_guid": "732be8e3-36e9-427f-aba1-6774c94fd632",
        "_uuid": "60dc1e4e062975f164ed9f77dc77b0a8cc95a486",
        "trusted": true
      },
      "cell_type": "code",
      "source": "plt.scatter(c1['x0'],c1['x1'])",
      "execution_count": 53,
      "outputs": [
        {
          "data": {
            "text/plain": "<matplotlib.collections.PathCollection at 0x7fdf7e958080>"
          },
          "execution_count": 53,
          "metadata": {},
          "output_type": "execute_result"
        },
        {
          "data": {
            "image/png": "[encoded data removed]",
            "text/plain": "<matplotlib.figure.Figure at 0x7fdf7e67d9b0>"
          },
          "metadata": {},
          "output_type": "display_data"
        }
      ]
    },
    {
      "metadata": {
        "_cell_guid": "ed08a12f-2e46-4a07-9db7-c393d0672d54",
        "_uuid": "b51a1eec719d2c1f67aa6f3bdc294410ecc5a1d5",
        "collapsed": true,
        "trusted": true
      },
      "cell_type": "code",
      "source": "def single_distance(clusters ,cluster_num):\n    while len(clusters) is not cluster_num:\n        # Clustering           (\n        closest_distance=clust_1=clust_2 = math.inf\n        # for every cluster (until second last element)\n        for cluster_id, cluster in enumerate(clusters[:len(clusters)]): \n            # for each point in each cluster\n            for point_id,point in enumerate(cluster): \n                # we only need to compare with clusters after the current one\n                for cluster2_id, cluster2 in enumerate(clusters[(cluster_id+1):]): \n                    # go through every point in this prospective cluster as well\n                    for point2_id, point2 in enumerate(cluster2):\n# if this distance is better than our previous best distance then we are going to overwrite it\n                        if distance.euclidean(point,point2) < closest_distance: \n                            # Only used for comparing \n                            closest_distance = distance.euclidean(point,point2)\n                # this will be used at the end to figure out which cluster to merge with which\n                            clust_1 = cluster_id\n                # this cluster will be destroyed by the end\n                            clust_2 = cluster2_id+cluster_id+1\n               # extend just appends the contents to the list without flattening it out\n        clusters[clust_1].extend(clusters[clust_2]) \n        # don't need this index anymore, and we have just clustered once more\n        clusters.pop(clust_2) \n    return(clusters)",
      "execution_count": 54,
      "outputs": []
    },
    {
      "metadata": {
        "_cell_guid": "fcf579fe-4e4a-4d69-a92e-04119037ffa4",
        "_uuid": "7ac6575fef403ea9354afa2956c82a954f78f1b1",
        "collapsed": true,
        "trusted": true
      },
      "cell_type": "code",
      "source": "### Hierarchical clustering\ndef hierarchical(data, cluster_num, metric = 'single'):\n    # initialization of clusters at first (every point is a cluster)\n    init_clusters=[]\n    for index, row in data.iterrows():\n        init_clusters.append([[row['x0'], row['x1']]])\n    if metric is 'single':\n        return single_distance(init_clusters, cluster_num)",
      "execution_count": 55,
      "outputs": []
    },
    {
      "metadata": {
        "trusted": true,
        "_uuid": "9ced430deb9a24e69dc1a566504b84411d426b04"
      },
      "cell_type": "code",
      "source": "clusters = hierarchical(c1,4)\ncolors = ['blue', 'red', 'purple', 'teal']\nfor cluster_index, cluster in enumerate(clusters):\n    for point_index, point in enumerate(cluster):\n        plt.plot([point[0]], [point[1]], marker='o', markersize=3, color=colors[cluster_index])",
      "execution_count": 56,
      "outputs": [
        {
          "data": {
            "image/png": "[encoded data removed]",
            "text/plain": "<matplotlib.figure.Figure at 0x7fdf7eb2bf28>"
          },
          "metadata": {},
          "output_type": "display_data"
        }
      ]
    },
    {
      "metadata": {
        "_cell_guid": "37c15a51-988b-4e19-bff4-772e895ae373",
        "_uuid": "a45109da7f08f18942887a6342cccb7102c8562a"
      },
      "cell_type": "markdown",
      "source": "> # Validation "
    },
    {
      "metadata": {
        "_uuid": "f6a134e690bacbf178cd1ae9a47d2568c4eb017b"
      },
      "cell_type": "markdown",
      "source": "Credit to [https://joernhees.de/blog/2015/08/26/scipy-hierarchical-clustering-and-dendrogram-tutorial/](http://) for this Validation portion"
    },
    {
      "metadata": {
        "_cell_guid": "ff676b94-11b6-4cc2-a275-205a7940d37d",
        "_uuid": "8e48fe89504b6ef77441535a9b230673dac14794",
        "collapsed": true,
        "trusted": true
      },
      "cell_type": "code",
      "source": "X = c1.as_matrix()\n# generate the linkage matrix\nsingle_link = linkage(X, 'single') # using single link metric to evaluate 'distance' between clusters",
      "execution_count": 61,
      "outputs": []
    },
    {
      "metadata": {
        "_uuid": "f76b388e8b2e9e1f7d2acbe38b513aefb6079673"
      },
      "cell_type": "markdown",
      "source": " As you can see there's a lot of choice here and while python and scipy make it very easy to do the clustering, it's you who has to understand and make these choices.. This  compares the actual pairwise distances of all your samples to those implied by the hierarchical clustering. \n > The closer the value is to `1`, the better the clustering preserves the original distances, which in our case is reasonably close:"
    },
    {
      "metadata": {
        "_cell_guid": "942dbb47-8294-4c31-823c-2178063886ee",
        "_uuid": "6802058ae18b8002ce53f49d3c1410cf69453fac",
        "collapsed": true,
        "trusted": true
      },
      "cell_type": "code",
      "source": "from scipy.cluster.hierarchy import cophenet\nfrom scipy.spatial.distance import pdist",
      "execution_count": 62,
      "outputs": []
    },
    {
      "metadata": {
        "trusted": true,
        "_uuid": "0fa59d908015b6af2eee902760f84326b1451cd7"
      },
      "cell_type": "code",
      "source": "c, coph_dists = cophenet(single_link, pdist(X))\nc",
      "execution_count": 63,
      "outputs": [
        {
          "data": {
            "text/plain": "0.74321649752980556"
          },
          "execution_count": 63,
          "metadata": {},
          "output_type": "execute_result"
        }
      ]
    },
    {
      "metadata": {
        "_uuid": "3397cecde28da98d54b5cc8f17e6a4099cbcb901"
      },
      "cell_type": "markdown",
      "source": "No matter what method and metric you pick, the linkage() function will use that method and metric to calculate the distances of the clusters (starting with your n individual samples (aka data points) as singleton clusters)) and in each iteration will merge the two clusters which have the smallest distance according the selected method and metric. It will return an array of length `n - 1` giving you information about the `n - 1` cluster merges which it needs to pairwise merge n clusters. `single_link[i]` will tell us which clusters were merged in the i-th iteration, let's take a look at the first two points that were merged:"
    },
    {
      "metadata": {
        "trusted": true,
        "_uuid": "5e9daf5316c96ef4be4e4b438475d24d6a99baba"
      },
      "cell_type": "code",
      "source": "single_link[0]",
      "execution_count": 64,
      "outputs": [
        {
          "data": {
            "text/plain": "array([ 2.     ,  3.     ,  0.15085,  2.     ])"
          },
          "execution_count": 64,
          "metadata": {},
          "output_type": "execute_result"
        }
      ]
    },
    {
      "metadata": {
        "_uuid": "0518d25598814c179daebe5a5e81d391f2121582"
      },
      "cell_type": "markdown",
      "source": "In its first iteration the linkage algorithm decided to merge the two clusters  with indices `2` and `3`, as they only had a distance of `0.15085`. This created a cluster with a total of `2` samples. \n> We can see that each row of the resulting array has the format `[idx1, idx2, dist, sample_count].`\n\n\n"
    },
    {
      "metadata": {
        "trusted": true,
        "_uuid": "543ad6eec114ce96e187600e9ff82e8cbc5ec84a"
      },
      "cell_type": "code",
      "source": "single_link[1]",
      "execution_count": 65,
      "outputs": [
        {
          "data": {
            "text/plain": "array([ 16.     ,  17.     ,   0.15501,   2.     ])"
          },
          "execution_count": 65,
          "metadata": {},
          "output_type": "execute_result"
        }
      ]
    },
    {
      "metadata": {
        "_uuid": "0073d0da02fa7449cc6ef0d76bad8b34cd782374"
      },
      "cell_type": "markdown",
      "source": "In the second iteration the algorithm decided to merge the clusters (original samples here as well) with indices `16` and `17`, which had a distance of `0.15501`. This again formed another cluster with a total of `2` samples.\n\nThe indices of the clusters until now correspond to our samples. Remember that we had a total of 21 samples, so indices `0` to `20`. Let's have a look at the first `20` iterations:"
    },
    {
      "metadata": {
        "trusted": true,
        "_uuid": "0abaaf029602dc29512e3fd9e2975a3ec575260d"
      },
      "cell_type": "code",
      "source": "single_link[:20]",
      "execution_count": 66,
      "outputs": [
        {
          "data": {
            "text/plain": "array([[  2.     ,   3.     ,   0.15085,   2.     ],\n       [ 16.     ,  17.     ,   0.15501,   2.     ],\n       [ 18.     ,  22.     ,   0.15533,   3.     ],\n       [ 15.     ,  23.     ,   0.16303,   4.     ],\n       [ 19.     ,  24.     ,   0.16793,   5.     ],\n       [ 14.     ,  25.     ,   0.17501,   6.     ],\n       [ 13.     ,  26.     ,   0.18766,   7.     ],\n       [  5.     ,   6.     ,   0.19187,   2.     ],\n       [ 20.     ,  27.     ,   0.19429,   8.     ],\n       [ 12.     ,  29.     ,   0.19888,   9.     ],\n       [  7.     ,   8.     ,   0.20598,   2.     ],\n       [ 11.     ,  30.     ,   0.20744,  10.     ],\n       [  9.     ,  31.     ,   0.21189,   3.     ],\n       [ 10.     ,  32.     ,   0.21264,  11.     ],\n       [ 33.     ,  34.     ,   0.21416,  14.     ],\n       [  4.     ,  28.     ,   0.22341,   3.     ],\n       [  0.     ,   1.     ,   0.47931,   2.     ],\n       [ 35.     ,  36.     ,   0.68347,  17.     ],\n       [ 21.     ,  38.     ,   0.83226,  19.     ],\n       [ 37.     ,  39.     ,   1.37181,  21.     ]])"
          },
          "execution_count": 66,
          "metadata": {},
          "output_type": "execute_result"
        }
      ]
    },
    {
      "metadata": {
        "_uuid": "d505ddb0ce184f4ae93820aa02252e3edcb8111d"
      },
      "cell_type": "markdown",
      "source": "We can  observe the monotonic increase of the distance."
    },
    {
      "metadata": {
        "_uuid": "92c77ff3483f980f96c043f81acefe62a24e09b8"
      },
      "cell_type": "markdown",
      "source": "> A dendrogram is a visualization in form of a tree showing the order and distances of merges during the hierarchical clustering."
    },
    {
      "metadata": {
        "trusted": true,
        "_uuid": "d9ce3bd018b29f0a38bd121c3ca6504a0947d105"
      },
      "cell_type": "code",
      "source": "# calculate full dendrogram\nplt.figure(figsize=(25, 10))\nplt.title('Hierarchical Clustering Dendrogram')\nplt.xlabel('sample index')\nplt.ylabel('distance')\ndendrogram(\n    single_link,\n    leaf_rotation=90.,  # rotates the x axis labels\n    leaf_font_size=8.,  # font size for the x axis labels\n    color_threshold= .6\n)\nplt.show()",
      "execution_count": 67,
      "outputs": [
        {
          "data": {
            "image/png": "[encoded data removed]",
            "text/plain": "<matplotlib.figure.Figure at 0x7fdf7e92a390>"
          },
          "metadata": {},
          "output_type": "display_data"
        }
      ]
    },
    {
      "metadata": {
        "_uuid": "6341d78229565e94318a0de33099f0b30c1abc3e"
      },
      "cell_type": "markdown",
      "source": "Which actually corresponds to our results as well (pasted from top again)"
    },
    {
      "metadata": {
        "trusted": true,
        "_uuid": "5cbb1f62b68048b6dad7fe5ec3a0fcee676d8d07"
      },
      "cell_type": "code",
      "source": "clusters = hierarchical(c1,4)\ncolors = ['blue', 'red', 'purple', 'teal']\nfor cluster_index, cluster in enumerate(clusters):\n    for point_index, point in enumerate(cluster):\n        plt.plot([point[0]], [point[1]], marker='o', markersize=3, color=colors[cluster_index])",
      "execution_count": 68,
      "outputs": [
        {
          "data": {
            "image/png": "[encoded data removed]",
            "text/plain": "<matplotlib.figure.Figure at 0x7fdf7e82b400>"
          },
          "metadata": {},
          "output_type": "display_data"
        }
      ]
    }
  ],
  "metadata": {
    "kernelspec": {
      "display_name": "Python 3",
      "language": "python",
      "name": "python3"
    },
    "language_info": {
      "codemirror_mode": {
        "name": "ipython",
        "version": 3
      },
      "file_extension": ".py",
      "mimetype": "text/x-python",
      "name": "python",
      "nbconvert_exporter": "python",
      "pygments_lexer": "ipython3",
      "version": "3.6.4"
    }
  },
  "nbformat": 4,
  "nbformat_minor": 1
}